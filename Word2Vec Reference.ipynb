{
  "cells": [
    {
      "cell_type": "markdown",
      "metadata": {
        "id": "m_Gjyw2be9rQ"
      },
      "source": [
        "### Training Word2vec"
      ]
    },
    {
      "cell_type": "code",
      "execution_count": 1,
      "metadata": {
        "id": "PXSZLBLAKYlL"
      },
      "outputs": [],
      "source": [
        "CBOW_N_WORDS = 4\n",
        "SKIPGRAM_N_WORDS = 4\n",
        "\n",
        "MIN_WORD_FREQUENCY = 50\n",
        "MAX_SEQUENCE_LENGTH = 256\n",
        "\n",
        "EMBED_DIMENSION = 300\n",
        "EMBED_MAX_NORM = 1"
      ]
    },
    {
      "cell_type": "code",
      "execution_count": 3,
      "metadata": {
        "id": "5JBPaieqaodL"
      },
      "outputs": [],
      "source": [
        "import torch.nn as nn\n",
        "\n",
        "#from utils.constants import EMBED_DIMENSION, EMBED_MAX_NORM\n",
        "\n",
        "class SkipGram_Model(nn.Module):\n",
        "  \n",
        "    def __init__(self, vocab_size: int):\n",
        "        super(SkipGram_Model, self).__init__()\n",
        "        self.embeddings = nn.Embedding(\n",
        "            num_embeddings=vocab_size,\n",
        "            embedding_dim=EMBED_DIMENSION,\n",
        "            max_norm=EMBED_MAX_NORM,\n",
        "        )\n",
        "        self.linear = nn.Linear(\n",
        "            in_features=EMBED_DIMENSION,\n",
        "            out_features=vocab_size,\n",
        "        )\n",
        "\n",
        "    def forward(self, inputs_):\n",
        "        x = self.embeddings(inputs_)\n",
        "        x = self.linear(x)\n",
        "        return x\n",
        "model=SkipGram_Model(4099)"
      ]
    },
    {
      "cell_type": "code",
      "execution_count": 4,
      "metadata": {
        "id": "h20URx64aogQ"
      },
      "outputs": [],
      "source": [
        "import os\n",
        "import yaml\n",
        "import torch\n",
        "import torch.optim as optim\n",
        "from torch.optim.lr_scheduler import LambdaLR\n",
        "\n",
        "\n",
        "\n",
        "def get_model_class(model_name: str):\n",
        "    if model_name == \"skipgram\":\n",
        "        return SkipGram_Model\n",
        "    else:\n",
        "        raise ValueError(\"Choose model_name from:  skipgram\")\n",
        "        return\n",
        "\n",
        "\n",
        "def get_optimizer_class(name: str):\n",
        "    if name == \"Adam\":\n",
        "        return optim.Adam\n",
        "    else:\n",
        "        raise ValueError(\"Choose optimizer from: Adam\")\n",
        "        return\n",
        "    \n",
        "\n",
        "def get_lr_scheduler(optimizer, total_epochs: int, verbose: bool = True):\n",
        "    \"\"\"\n",
        "    Scheduler to linearly decrease learning rate, \n",
        "    so thatlearning rate after the last epoch is 0.\n",
        "    \"\"\"\n",
        "    lr_lambda = lambda epoch: (total_epochs - epoch) / total_epochs\n",
        "    lr_scheduler = LambdaLR(optimizer, lr_lambda=lr_lambda, verbose=verbose)\n",
        "    return lr_scheduler\n",
        "\n",
        "\n",
        "def save_config(config: dict, model_dir: str):\n",
        "    \"\"\"Save config file to `model_dir` directory\"\"\"\n",
        "    config_path = os.path.join(model_dir, \"config.yaml\")\n",
        "    with open(config_path, \"w\") as stream:\n",
        "        yaml.dump(config, stream)\n",
        "        \n",
        "        \n",
        "def save_vocab(vocab, model_dir: str):\n",
        "    \"\"\"Save vocab file to `model_dir` directory\"\"\"\n",
        "    vocab_path = os.path.join(model_dir, \"vocab.pt\")\n",
        "    torch.save(vocab, vocab_path)"
      ]
    },
    {
      "cell_type": "code",
      "execution_count": 6,
      "metadata": {
        "id": "TIo0opwbcTqk"
      },
      "outputs": [],
      "source": [
        "import torch\n",
        "from functools import partial\n",
        "from torch.utils.data import DataLoader\n",
        "from torchtext.data import to_map_style_dataset\n",
        "from torchtext.data.utils import get_tokenizer\n",
        "from torchtext.vocab import build_vocab_from_iterator\n",
        "from torchtext.datasets import WikiText2, WikiText103\n",
        "\n",
        "\n",
        "\n",
        "def get_english_tokenizer():\n",
        "   \n",
        "    tokenizer = get_tokenizer(\"basic_english\", language=\"en\")\n",
        "    return tokenizer\n",
        "\n",
        "\n",
        "def get_data_iterator(ds_name, ds_type, data_dir):\n",
        "    if ds_name == \"WikiText2\":\n",
        "        data_iter = WikiText2(root=data_dir, split=(ds_type))\n",
        "    elif ds_name == \"WikiText103\":\n",
        "        data_iter = WikiText103(root=data_dir, split=(ds_type))\n",
        "    else:\n",
        "        raise ValueError(\"Choose dataset from: WikiText2, WikiText103\")\n",
        "    data_iter = to_map_style_dataset(data_iter)\n",
        "    return data_iter\n",
        "\n",
        "\n",
        "def build_vocab(data_iter, tokenizer):\n",
        "    \n",
        "    vocab = build_vocab_from_iterator(\n",
        "        map(tokenizer, data_iter),\n",
        "        specials=[\"<unk>\"],\n",
        "        min_freq=MIN_WORD_FREQUENCY,\n",
        "    )\n",
        "    vocab.set_default_index(vocab[\"<unk>\"])\n",
        "    return vocab\n",
        "\n",
        "\n",
        "\n",
        "\n",
        "\n",
        "def collate_skipgram(batch, text_pipeline):\n",
        "    \"\"\"\n",
        "    Collate_fn for Skip-Gram model to be used with Dataloader.\n",
        "    `batch` is expected to be list of text paragrahs.\n",
        "    \n",
        "    Context is represented as N=SKIPGRAM_N_WORDS past words \n",
        "    and N=SKIPGRAM_N_WORDS future words.\n",
        "    \n",
        "    Long paragraphs will be truncated to contain\n",
        "    no more that MAX_SEQUENCE_LENGTH tokens.\n",
        "    \n",
        "    Each element in `batch_input` is a middle word.\n",
        "    Each element in `batch_output` is a context word.\n",
        "    \"\"\"\n",
        "    batch_input, batch_output = [], []\n",
        "    for text in batch:\n",
        "        text_tokens_ids = text_pipeline(text)\n",
        "\n",
        "        if len(text_tokens_ids) < SKIPGRAM_N_WORDS * 2 + 1:\n",
        "            continue\n",
        "\n",
        "        if MAX_SEQUENCE_LENGTH:\n",
        "            text_tokens_ids = text_tokens_ids[:MAX_SEQUENCE_LENGTH]\n",
        "\n",
        "        for idx in range(len(text_tokens_ids) - SKIPGRAM_N_WORDS * 2):\n",
        "            token_id_sequence = text_tokens_ids[idx : (idx + SKIPGRAM_N_WORDS * 2 + 1)]\n",
        "            input_ = token_id_sequence.pop(SKIPGRAM_N_WORDS)\n",
        "            outputs = token_id_sequence\n",
        "\n",
        "            for output in outputs:\n",
        "                batch_input.append(input_)\n",
        "                batch_output.append(output)\n",
        "\n",
        "    batch_input = torch.tensor(batch_input, dtype=torch.long)\n",
        "    batch_output = torch.tensor(batch_output, dtype=torch.long)\n",
        "    return batch_input, batch_output\n",
        "\n",
        "\n",
        "def get_dataloader_and_vocab(\n",
        "    model_name, ds_name, ds_type, data_dir, batch_size, shuffle, vocab=None\n",
        "):\n",
        "\n",
        "    data_iter = get_data_iterator(ds_name, ds_type, data_dir)\n",
        "    tokenizer = get_english_tokenizer()\n",
        "\n",
        "    if not vocab:\n",
        "        vocab = build_vocab(data_iter, tokenizer)\n",
        "        \n",
        "    text_pipeline = lambda x: vocab(tokenizer(x))\n",
        "\n",
        "    if model_name == \"skipgram\":\n",
        "        collate_fn = collate_skipgram\n",
        "    else:\n",
        "        raise ValueError(\"Choose model from: skipgram\")\n",
        "\n",
        "    dataloader = DataLoader(\n",
        "        data_iter,\n",
        "        batch_size=batch_size,\n",
        "        shuffle=shuffle,\n",
        "        collate_fn=partial(collate_fn, text_pipeline=text_pipeline),\n",
        "    )\n",
        "    return dataloader, vocab"
      ]
    },
    {
      "cell_type": "code",
      "execution_count": 7,
      "metadata": {
        "id": "Kmamm5vcaoab"
      },
      "outputs": [],
      "source": [
        "import os\n",
        "import numpy as np\n",
        "import json\n",
        "import torch\n",
        "\n",
        "\n",
        "class Trainer:\n",
        "    \"\"\"Main class for model training\"\"\"\n",
        "    \n",
        "    def __init__(\n",
        "        self,\n",
        "        model,\n",
        "        epochs,\n",
        "        train_dataloader,\n",
        "        train_steps,\n",
        "        val_dataloader,\n",
        "        val_steps,\n",
        "        checkpoint_frequency,\n",
        "        criterion,\n",
        "        optimizer,\n",
        "        lr_scheduler,\n",
        "        device,\n",
        "        model_dir,\n",
        "        model_name,\n",
        "    ):  \n",
        "        self.model = model\n",
        "        self.epochs = epochs\n",
        "        self.train_dataloader = train_dataloader\n",
        "        self.train_steps = train_steps\n",
        "        self.val_dataloader = val_dataloader\n",
        "        self.val_steps = val_steps\n",
        "        self.criterion = criterion\n",
        "        self.optimizer = optimizer\n",
        "        self.checkpoint_frequency = checkpoint_frequency\n",
        "        self.lr_scheduler = lr_scheduler\n",
        "        self.device = device\n",
        "        self.model_dir = model_dir\n",
        "        self.model_name = model_name\n",
        "\n",
        "        self.loss = {\"train\": [], \"val\": []}\n",
        "        self.model.to(self.device)\n",
        "\n",
        "    def train(self):\n",
        "        for epoch in range(self.epochs):\n",
        "            self._train_epoch()\n",
        "            self._validate_epoch()\n",
        "            print(\n",
        "                \"Epoch: {}/{}, Train Loss={:.5f}, Val Loss={:.5f}\".format(\n",
        "                    epoch + 1,\n",
        "                    self.epochs,\n",
        "                    self.loss[\"train\"][-1],\n",
        "                    self.loss[\"val\"][-1],\n",
        "                )\n",
        "            )\n",
        "\n",
        "            self.lr_scheduler.step()\n",
        "\n",
        "            if self.checkpoint_frequency:\n",
        "                self._save_checkpoint(epoch)\n",
        "\n",
        "    def _train_epoch(self):\n",
        "        self.model.train()\n",
        "        running_loss = []\n",
        "\n",
        "        for i, batch_data in enumerate(self.train_dataloader, 1):\n",
        "            inputs = batch_data[0].to(self.device)\n",
        "            labels = batch_data[1].to(self.device)\n",
        "\n",
        "            self.optimizer.zero_grad()\n",
        "            outputs = self.model(inputs)\n",
        "            loss = self.criterion(outputs, labels)\n",
        "            loss.backward()\n",
        "            self.optimizer.step()\n",
        "\n",
        "            running_loss.append(loss.item())\n",
        "\n",
        "            if i == self.train_steps:\n",
        "                break\n",
        "\n",
        "        epoch_loss = np.mean(running_loss)\n",
        "        self.loss[\"train\"].append(epoch_loss)\n",
        "\n",
        "    def _validate_epoch(self):\n",
        "        self.model.eval()\n",
        "        running_loss = []\n",
        "\n",
        "        with torch.no_grad():\n",
        "            for i, batch_data in enumerate(self.val_dataloader, 1):\n",
        "                inputs = batch_data[0].to(self.device)\n",
        "                labels = batch_data[1].to(self.device)\n",
        "\n",
        "                outputs = self.model(inputs)\n",
        "                loss = self.criterion(outputs, labels)\n",
        "\n",
        "                running_loss.append(loss.item())\n",
        "\n",
        "                if i == self.val_steps:\n",
        "                    break\n",
        "\n",
        "        epoch_loss = np.mean(running_loss)\n",
        "        self.loss[\"val\"].append(epoch_loss)\n",
        "\n",
        "    def _save_checkpoint(self, epoch):\n",
        "        \"\"\"Save model checkpoint to `self.model_dir` directory\"\"\"\n",
        "        epoch_num = epoch + 1\n",
        "        if epoch_num % self.checkpoint_frequency == 0:\n",
        "            model_path = \"checkpoint_{}.pt\".format(str(epoch_num).zfill(3))\n",
        "            model_path = os.path.join(self.model_dir, model_path)\n",
        "            torch.save(self.model, model_path)\n",
        "\n",
        "    def save_model(self):\n",
        "        \"\"\"Save final model to `self.model_dir` directory\"\"\"\n",
        "        model_path = os.path.join(self.model_dir, \"model.pt\")\n",
        "        torch.save(self.model, model_path)\n",
        "\n",
        "    def save_loss(self):\n",
        "        \"\"\"Save train/val loss as json file to `self.model_dir` directory\"\"\"\n",
        "        loss_path = os.path.join(self.model_dir, \"loss.json\")\n",
        "        with open(loss_path, \"w\") as fp:\n",
        "            json.dump(self.loss, fp)"
      ]
    },
    {
      "cell_type": "code",
      "execution_count": 11,
      "metadata": {
        "colab": {
          "base_uri": "https://localhost:8080/"
        },
        "id": "mlrRRcZRafSM",
        "outputId": "eaf476d3-34d8-44aa-ff4c-f2cae33eab37"
      },
      "outputs": [
        {
          "name": "stdout",
          "output_type": "stream",
          "text": [
            "Vocabulary size: 4099\n",
            "Adjusting learning rate of group 0 to 2.5000e-02.\n"
          ]
        }
      ],
      "source": [
        "import argparse\n",
        "import yaml\n",
        "import os\n",
        "import torch\n",
        "import torch.nn as nn\n",
        "from torchdata.datapipes.iter import IterableWrapper\n",
        "\n",
        "\n",
        "\n",
        "\n",
        "def train(config):\n",
        "    os.makedirs(config[\"model_dir\"])\n",
        "    \n",
        "    train_dataloader, vocab = get_dataloader_and_vocab(\n",
        "        model_name=config[\"model_name\"],\n",
        "        ds_name=config[\"dataset\"],\n",
        "        ds_type=\"train\",\n",
        "        data_dir=config[\"data_dir\"],\n",
        "        batch_size=config[\"train_batch_size\"],\n",
        "        shuffle=config[\"shuffle\"],\n",
        "        vocab=None,\n",
        "    )\n",
        "\n",
        "    val_dataloader, _ = get_dataloader_and_vocab(\n",
        "        model_name=config[\"model_name\"],\n",
        "        ds_name=config[\"dataset\"],\n",
        "        ds_type=\"valid\",\n",
        "        data_dir=config[\"data_dir\"],\n",
        "        batch_size=config[\"val_batch_size\"],\n",
        "        shuffle=config[\"shuffle\"],\n",
        "        vocab=vocab,\n",
        "    )\n",
        "\n",
        "    vocab_size = len(vocab.get_stoi())\n",
        "    print(f\"Vocabulary size: {vocab_size}\")\n",
        "\n",
        "    model_class = get_model_class(config[\"model_name\"])\n",
        "    model = model_class(vocab_size=vocab_size)\n",
        "    criterion = nn.CrossEntropyLoss()\n",
        "\n",
        "    optimizer_class = get_optimizer_class(config[\"optimizer\"])\n",
        "    optimizer = optimizer_class(model.parameters(), lr=config[\"learning_rate\"])\n",
        "    lr_scheduler = get_lr_scheduler(optimizer, config[\"epochs\"], verbose=True)\n",
        "\n",
        "    device = torch.device(\"cuda\" if torch.cuda.is_available() else \"cpu\")\n",
        "\n",
        "    trainer = Trainer(\n",
        "        model=model,\n",
        "        epochs=config[\"epochs\"],\n",
        "        train_dataloader=train_dataloader,\n",
        "        train_steps=config[\"train_steps\"],\n",
        "        val_dataloader=val_dataloader,\n",
        "        val_steps=config[\"val_steps\"],\n",
        "        criterion=criterion,\n",
        "        optimizer=optimizer,\n",
        "        checkpoint_frequency=config[\"checkpoint_frequency\"],\n",
        "        lr_scheduler=lr_scheduler,\n",
        "        device=device,\n",
        "        model_dir=config[\"model_dir\"],\n",
        "        model_name=config[\"model_name\"],\n",
        "    )\n",
        "\n",
        "    trainer.train()\n",
        "    print(\"Training finished.\")\n",
        "\n",
        "    trainer.save_model()\n",
        "    trainer.save_loss()\n",
        "    save_vocab(vocab, config[\"model_dir\"])\n",
        "    save_config(config, config[\"model_dir\"])\n",
        "    print(\"Model artifacts saved to folder:\", config[\"model_dir\"])\n",
        "    \n",
        "    \n",
        "if __name__ == '__main__':\n",
        "    '''parser = argparse.ArgumentParser()\n",
        "    parser.add_argument('--config', type=str, required=True, help='path to yaml config')\n",
        "    args = parser.parse_args()'''\n",
        "    \n",
        "    with open('config.yaml', 'r') as stream:\n",
        "        config = yaml.safe_load(stream)\n",
        "    train(config)"
      ]
    },
    {
      "cell_type": "code",
      "execution_count": null,
      "metadata": {
        "colab": {
          "base_uri": "https://localhost:8080/"
        },
        "id": "owEcaoLdbOIg",
        "outputId": "374d43e5-c52e-44b2-9d1c-e74addad9733"
      },
      "outputs": [
        {
          "name": "stderr",
          "output_type": "stream",
          "text": [
            "/usr/local/lib/python3.7/dist-packages/sklearn/manifold/_t_sne.py:783: FutureWarning: The default initialization in TSNE will change from 'random' to 'pca' in 1.2.\n",
            "  FutureWarning,\n",
            "/usr/local/lib/python3.7/dist-packages/sklearn/manifold/_t_sne.py:793: FutureWarning: The default learning rate in TSNE will change from 200.0 to 'auto' in 1.2.\n",
            "  FutureWarning,\n"
          ]
        },
        {
          "name": "stdout",
          "output_type": "stream",
          "text": [
            "hms: 0.507\n",
            "victoria: 0.506\n",
            "king: 0.502\n",
            "frederick: 0.497\n",
            "charles: 0.494\n",
            "elizabeth: 0.485\n",
            "edward: 0.482\n",
            "george: 0.471\n",
            "daughter: 0.461\n",
            "son: 0.431\n"
          ]
        }
      ],
      "source": [
        "\n",
        "import numpy as np\n",
        "import pandas as pd\n",
        "import torch\n",
        "import sys\n",
        "\n",
        "from sklearn.manifold import TSNE\n",
        "import plotly.graph_objects as go\n",
        "\n",
        "#model=torch.load(\"/content/weights/cbow_WikiText2'/model.pt\")\n",
        "model.load_state_dict(torch.load(\"/content/drive/MyDrive/DS504/model1.pth\"))\n",
        "vocab = torch.load(\"/content/drive/MyDrive/DS504/vocab.pth\")\n",
        "#Getting Embeddings\n",
        "\n",
        "embeddings = list(model.parameters())[0]\n",
        "embeddings = embeddings.cpu().detach().numpy()\n",
        "\n",
        "# normalization\n",
        "norms = (embeddings ** 2).sum(axis=1) ** (1 / 2)\n",
        "norms = np.reshape(norms, (len(norms), 1))\n",
        "embeddings_norm = embeddings / norms\n",
        "embeddings_norm.shape\n",
        "#Visualization with t-SNE\n",
        "# get embeddings\n",
        "embeddings_df = pd.DataFrame(embeddings)\n",
        "\n",
        "# t-SNE transform\n",
        "tsne = TSNE(n_components=2)\n",
        "embeddings_df_trans = tsne.fit_transform(embeddings_df)\n",
        "embeddings_df_trans = pd.DataFrame(embeddings_df_trans)\n",
        "\n",
        "# get token order\n",
        "embeddings_df_trans.index = vocab.get_itos()\n",
        "\n",
        "# if token is a number\n",
        "is_numeric = embeddings_df_trans.index.str.isnumeric()\n",
        "color = np.where(is_numeric, \"green\", \"black\")\n",
        "fig = go.Figure()\n",
        "\n",
        "fig.add_trace(\n",
        "    go.Scatter(\n",
        "        x=embeddings_df_trans[0],\n",
        "        y=embeddings_df_trans[1],\n",
        "        mode=\"text\",\n",
        "        text=embeddings_df_trans.index,\n",
        "        textposition=\"middle center\",\n",
        "        textfont=dict(color=color),\n",
        "    )\n",
        ")\n",
        "fig.write_html(\"/content/drive/MyDrive/DS504/word2vec_visualization.html\")\n",
        "#Find Similar Words\n",
        "def get_top_similar(word: str, topN: int = 10):\n",
        "    word_id = vocab[word]\n",
        "    if word_id == 0:\n",
        "        print(\"Out of vocabulary word\")\n",
        "        return\n",
        "\n",
        "    word_vec = embeddings_norm[word_id]\n",
        "    word_vec = np.reshape(word_vec, (len(word_vec), 1))\n",
        "    dists = np.matmul(embeddings_norm, word_vec).flatten()\n",
        "    topN_ids = np.argsort(-dists)[1 : topN + 1]\n",
        "\n",
        "    topN_dict = {}\n",
        "    for sim_word_id in topN_ids:\n",
        "        sim_word = vocab.lookup_token(sim_word_id)\n",
        "        topN_dict[sim_word] = dists[sim_word_id]\n",
        "    return topN_dict\n",
        "for word, sim in get_top_similar(\"queen\").items():\n",
        "    print(\"{}: {:.3f}\".format(word, sim))\n",
        " \n"
      ]
    },
    {
      "cell_type": "code",
      "execution_count": null,
      "metadata": {
        "colab": {
          "base_uri": "https://localhost:8080/"
        },
        "id": "boDSwA4NcYPw",
        "outputId": "ba90fcae-48b3-49c7-8251-2066c3107069"
      },
      "outputs": [
        {
          "name": "stdout",
          "output_type": "stream",
          "text": [
            "queen: 0.731\n",
            "king: 0.438\n",
            "man: 0.426\n",
            "edward: 0.390\n",
            "hms: 0.371\n"
          ]
        }
      ],
      "source": [
        "\n",
        " \n",
        "#Vector Equations\n",
        "emb1 = embeddings[vocab[\"man\"]]\n",
        "emb2 = embeddings[vocab[\"woman\"]]\n",
        "emb3 = embeddings[vocab[\"queen\"]]\n",
        "\n",
        "emb4 = emb1 - emb2 + emb3\n",
        "emb4_norm = (emb4 ** 2).sum() ** (1 / 2)\n",
        "emb4 = emb4 / emb4_norm\n",
        "\n",
        "emb4 = np.reshape(emb4, (len(emb4), 1))\n",
        "dists = np.matmul(embeddings_norm, emb4).flatten()\n",
        "\n",
        "top5 = np.argsort(-dists)[:5]\n",
        "\n",
        "for word_id in top5:\n",
        "    print(\"{}: {:.3f}\".format(vocab.lookup_token(word_id), dists[word_id]))"
      ]
    },
    {
      "cell_type": "code",
      "execution_count": null,
      "metadata": {
        "colab": {
          "base_uri": "https://localhost:8080/"
        },
        "id": "uiL50baMdgHj",
        "outputId": "157cdae2-6255-4ecc-c416-5d58aa896bcd"
      },
      "outputs": [
        {
          "name": "stdout",
          "output_type": "stream",
          "text": [
            "<unk>: 1.000\n",
            "bone: 0.405\n",
            "simple: 0.386\n",
            "bishop: 0.361\n",
            "jean: 0.357\n"
          ]
        }
      ],
      "source": [
        "#Vector Equations\n",
        "emb1 = embeddings[vocab[\"milk\"]]\n",
        "emb2 = embeddings[vocab[\"pant\"]]\n",
        "emb3 = embeddings[vocab[\"tea\"]]\n",
        "\n",
        "emb4 = emb1 - emb2 + emb3\n",
        "emb4_norm = (emb4 ** 2).sum() ** (1 / 2)\n",
        "emb4 = emb4 / emb4_norm\n",
        "\n",
        "emb4 = np.reshape(emb4, (len(emb4), 1))\n",
        "dists = np.matmul(embeddings_norm, emb4).flatten()\n",
        "\n",
        "top5 = np.argsort(-dists)[:5]\n",
        "\n",
        "for word_id in top5:\n",
        "    print(\"{}: {:.3f}\".format(vocab.lookup_token(word_id), dists[word_id]))"
      ]
    },
    {
      "cell_type": "code",
      "execution_count": null,
      "metadata": {
        "id": "a1_RfS-6DnSI"
      },
      "outputs": [],
      "source": [
        "torch.save(model.state_dict(), \"model1.pth\")\n",
        "torch.save(\"vocab.pth\")"
      ]
    },
    {
      "cell_type": "markdown",
      "metadata": {
        "id": "9DdqCUwOfKVN"
      },
      "source": [
        "### Pretrained Word2vec\n"
      ]
    },
    {
      "cell_type": "code",
      "execution_count": null,
      "metadata": {
        "colab": {
          "base_uri": "https://localhost:8080/",
          "height": 321
        },
        "id": "UweUKlfOz3M2",
        "outputId": "915e29bf-8edd-41af-d189-212cd1c4fde2"
      },
      "outputs": [
        {
          "name": "stderr",
          "output_type": "stream",
          "text": [
            "WARNING:gensim.models.base_any2vec:under 10 jobs per worker: consider setting a smaller `batch_words' for smoother alpha decay\n",
            "/usr/local/lib/python3.7/dist-packages/ipykernel_launcher.py:15: DeprecationWarning: Call to deprecated `__getitem__` (Method will be removed in 4.0.0, use self.wv.__getitem__() instead).\n",
            "  from ipykernel import kernelapp as app\n"
          ]
        },
        {
          "data": {
            "image/png": "[encoded data removed]",
            "text/plain": [
              "<Figure size 432x288 with 1 Axes>"
            ]
          },
          "metadata": {
            "needs_background": "light"
          },
          "output_type": "display_data"
        }
      ],
      "source": [
        "from gensim.models import Word2Vec\n",
        "from sklearn.decomposition import PCA\n",
        "from matplotlib import pyplot\n",
        "\n",
        "# define training data\n",
        "sentences = [['this', 'is', 'the', 'first', 'sentence', 'for', 'word2vec'],\n",
        "            ['this', 'is', 'the', 'second', 'sentence'],\n",
        "            ['yet', 'another', 'sentence'],\n",
        "            ['one', 'more', 'sentence'],\n",
        "            ['and', 'the', 'final', 'sentence']]\n",
        "# train model\n",
        "model_1 = Word2Vec(sentences, size=300, min_count=1)\n",
        "\n",
        "# fit a 2d PCA model to the vectors\n",
        "X = model_1[model_1.wv.vocab]\n",
        "pca = PCA(n_components=2)\n",
        "result = pca.fit_transform(X)\n",
        "# create a scatter plot of the projection\n",
        "pyplot.scatter(result[:, 0], result[:, 1])\n",
        "words = list(model_1.wv.vocab)\n",
        "for i, word in enumerate(words):\n",
        "    pyplot.annotate(word, xy=(result[i, 0], result[i, 1]))\n",
        "pyplot.show()"
      ]
    },
    {
      "cell_type": "code",
      "execution_count": null,
      "metadata": {
        "colab": {
          "base_uri": "https://localhost:8080/"
        },
        "id": "glvPZeg7f4Q9",
        "outputId": "586c62c2-1ab7-424b-f6ed-22df1ce8a176"
      },
      "outputs": [
        {
          "name": "stderr",
          "output_type": "stream",
          "text": [
            "/usr/local/lib/python3.7/dist-packages/ipykernel_launcher.py:1: DeprecationWarning: Call to deprecated `most_similar` (Method will be removed in 4.0.0, use self.wv.most_similar() instead).\n",
            "  \"\"\"Entry point for launching an IPython kernel.\n"
          ]
        },
        {
          "data": {
            "text/plain": [
              "[('another', 0.12716959416866302),\n",
              " ('one', 0.06272583454847336),\n",
              " ('sentence', 0.060022421181201935),\n",
              " ('is', 0.038779787719249725),\n",
              " ('the', 0.0308675616979599),\n",
              " ('second', 0.01855158619582653),\n",
              " ('for', 0.013133496046066284),\n",
              " ('and', 0.003790736198425293),\n",
              " ('more', 0.0032859928905963898),\n",
              " ('yet', -0.008202701807022095)]"
            ]
          },
          "execution_count": 12,
          "metadata": {},
          "output_type": "execute_result"
        }
      ],
      "source": [
        "model_1.most_similar(positive=['final'])\n"
      ]
    },
    {
      "cell_type": "markdown",
      "metadata": {
        "id": "TXzvHLEFot1W"
      },
      "source": [
        "### Sentiment analysis using word2vec"
      ]
    },
    {
      "cell_type": "code",
      "execution_count": null,
      "metadata": {
        "colab": {
          "base_uri": "https://localhost:8080/"
        },
        "id": "JgO6qYySIsDh",
        "outputId": "33261e7a-dfe0-47ba-8570-467f29b03f85"
      },
      "outputs": [
        {
          "name": "stderr",
          "output_type": "stream",
          "text": [
            "[nltk_data] Downloading package punkt to /root/nltk_data...\n",
            "[nltk_data]   Package punkt is already up-to-date!\n"
          ]
        }
      ],
      "source": [
        "\n",
        "import sys\n",
        "import nltk.data,logging, re\n",
        "import numpy as np\n",
        "import pandas as pd\n",
        "\n",
        "from nltk.corpus import stopwords\n",
        "from bs4 import BeautifulSoup\n",
        "from gensim.models import Word2Vec\n",
        "from sklearn.ensemble import RandomForestClassifier\n",
        "import nltk\n",
        "nltk.download('punkt')\n",
        "def reviewToSentences(review, tokenizer, remove_stopwords=False):\n",
        "    rawSentences = tokenizer.tokenize(review.strip())\n",
        "    sentences = []\n",
        "    for raw_sentence in rawSentences:\n",
        "        if len(raw_sentence) > 0:\n",
        "            sentences.append(reviewToWordList(raw_sentence, remove_stopwords))\n",
        "    return sentences\n",
        "\n",
        "def reviewToWordList(review, remove_stopwords=False):\n",
        "    reviewText = BeautifulSoup(review).get_text() # Remove HTML\n",
        "    reviewText = re.sub(\"[^a-zA-Z]\",\" \", reviewText)    # Remove non-letters\n",
        "    words = reviewText.lower().split()    # Convert words to lower case and split them\n",
        "\n",
        "    # 4. Optionally remove stop words (\n",
        "    if remove_stopwords:\n",
        "        stops = set(stopwords.words(\"english\"))\n",
        "        words = [w for w in words if not w in stops]\n",
        "    return(words)\n",
        "\n",
        "# Function to average all of the word vectors in a given paragraph\n",
        "def makeFeatureVec(words, model, num_features):\n",
        "\n",
        "    # initialize an empty numpy array (for speed)\n",
        "    featureVec = np.zeros((num_features,),dtype=\"float32\")\n",
        "\n",
        "    nwords = 0.\n",
        "\n",
        "    # Index2word is a list that contains the names of the words in\n",
        "    # the model's vocabulary. Convert it to a set, for speed\n",
        "    index2word_set = set(model.wv.index2word)\n",
        "\n",
        "    # Loop over each word in the review and, if it is in the model's\n",
        "    # vocaublary, add its feature vector to the total\n",
        "    for word in words:\n",
        "        if word in index2word_set:\n",
        "            nwords = nwords + 1.\n",
        "            featureVec = np.add(featureVec,model[word])\n",
        "\n",
        "    # Divide the result by the number of words to get the average\n",
        "    featureVec = np.divide(featureVec,nwords)\n",
        "    return featureVec\n",
        "\n",
        "# Given a set of reviews (each one a list of words), calculate the average feature vector for each one and return a 2D numpy array\n",
        "def getAvgFeatureVecs(reviews, model, num_features):\n",
        "    # Initialize a counter\n",
        "    counter = 0.\n",
        "\n",
        "    # Preallocate a 2D numpy array, for speed\n",
        "    reviewFeatureVecs = np.zeros((len(reviews),num_features),dtype=\"float32\")\n",
        "\n",
        "    # Loop through the reviews\n",
        "    for review in reviews:\n",
        "\n",
        "        if counter%1000. == 0.:\n",
        "            print (\"Review %d of %d\" % (counter, len(reviews)))\n",
        "\n",
        "        # Call the function (defined above) that makes average feature vectors\n",
        "        reviewFeatureVecs[int(counter)] = makeFeatureVec(review, model, num_features)\n",
        "        counter = counter + 1.\n",
        "\n",
        "    return reviewFeatureVecs\n",
        "\n",
        "def getCleanReviews(reviews):\n",
        "    clean_reviews = []\n",
        "    for review in reviews[\"review\"]:\n",
        "        clean_reviews.append(reviewToWordList(review, remove_stopwords=True))\n",
        "    return clean_reviews\n"
      ]
    },
    {
      "cell_type": "code",
      "execution_count": null,
      "metadata": {
        "colab": {
          "base_uri": "https://localhost:8080/"
        },
        "id": "t1AUeg3wbMWd",
        "outputId": "1edc80c3-0dc7-4ab0-bf9d-6ca15690f7cc"
      },
      "outputs": [
        {
          "name": "stdout",
          "output_type": "stream",
          "text": [
            "Read 25000 labeled train reviews, 25000 labeled test reviews, and 50000 unlabeled reviews\n",
            "\n",
            "Parsing sentences from training set\n",
            "Parsing sentences from unlabeled set\n"
          ]
        },
        {
          "name": "stderr",
          "output_type": "stream",
          "text": [
            "/usr/local/lib/python3.7/dist-packages/bs4/__init__.py:273: UserWarning:\n",
            "\n",
            "\"b'..'\" looks like a filename, not markup. You should probably open this file and pass the filehandle into Beautiful Soup.\n",
            "\n",
            "/usr/local/lib/python3.7/dist-packages/bs4/__init__.py:336: UserWarning:\n",
            "\n",
            "\"http://www.youtube.com/watch?v=a0KSqelmgN8\"\" looks like a URL. Beautiful Soup is not an HTTP client. You should probably use an HTTP client like requests to get the document behind the URL, and feed that document to Beautiful Soup.\n",
            "\n",
            "/usr/local/lib/python3.7/dist-packages/bs4/__init__.py:336: UserWarning:\n",
            "\n",
            "\"http://jake-weird.blogspot.com/2007/08/beneath.html\"\" looks like a URL. Beautiful Soup is not an HTTP client. You should probably use an HTTP client like requests to get the document behind the URL, and feed that document to Beautiful Soup.\n",
            "\n"
          ]
        },
        {
          "name": "stdout",
          "output_type": "stream",
          "text": [
            "Training Word2Vec model...\n"
          ]
        }
      ],
      "source": [
        "# Read data from files\n",
        "train = pd.read_csv( '/content/drive/MyDrive/DS504/labeledTrainData.tsv', header=0, delimiter=\"\\t\", quoting=3 )\n",
        "test = pd.read_csv( '/content/drive/MyDrive/DS504/testData.tsv', header=0, delimiter=\"\\t\", quoting=3 )\n",
        "unlabeled_train = pd.read_csv( \"/content/drive/MyDrive/DS504/unlabeledTrainData.tsv\", header=0,  delimiter=\"\\t\", quoting=3 )\n",
        "\n",
        "    # Verify the number of reviews that were read (100,000 in total)\n",
        "print( \"Read %d labeled train reviews, %d labeled test reviews, \" \\\n",
        "          \"and %d unlabeled reviews\\n\" % (train[\"review\"].size, test[\"review\"].size, unlabeled_train[\"review\"].size ))\n",
        "\n",
        "    # Load the punkt tokenizer\n",
        "tokenizer = nltk.data.load('tokenizers/punkt/english.pickle')\n",
        "sentences = []  # Initialize an empty list of sentences\n",
        "\n",
        "print (\"Parsing sentences from training set\")\n",
        "for review in train[\"review\"]:\n",
        "        sentences += reviewToSentences(review, tokenizer)\n",
        "\n",
        "print (\"Parsing sentences from unlabeled set\")\n",
        "for review in unlabeled_train[\"review\"]:\n",
        "        sentences += reviewToSentences(review, tokenizer)\n",
        "\n",
        "    # Set parameters and train the word2vec model\n",
        "logging.basicConfig(format='%(asctime)s : %(levelname)s : %(message)s', \\\n",
        "                        level=logging.INFO)\n",
        "\n",
        "    # Set values for various parameters\n",
        "num_features = 300    # Word vector dimensionality\n",
        "min_word_count = 40   # Minimum word count\n",
        "num_workers = 4       # Number of threads to run in parallel\n",
        "context = 10          # Context window size\n",
        "downsampling = 1e-3   # Downsample setting for frequent words\n",
        "\n",
        "    # Initialize and train the model (this will take some time)\n",
        "print (\"Training Word2Vec model...\")\n",
        "model=Word2Vec(sentences,workers=num_workers,size=num_features,min_count=min_word_count,window=context,sample=downsampling,seed=1)\n",
        "\n",
        "    # If you don't plan to train the model any further, calling\n",
        "    # init_sims will make the model much more memory-efficient.\n",
        "model.init_sims(replace=True)\n",
        "\n",
        "    #SAVE THE MODEL\n",
        "model_name = \"300features_40minwords_10context\"\n",
        "model.save(model_name)\n",
        "\n",
        "   "
      ]
    },
    {
      "cell_type": "code",
      "execution_count": null,
      "metadata": {
        "colab": {
          "base_uri": "https://localhost:8080/"
        },
        "id": "sYlddq0ge1TD",
        "outputId": "fb4bba1f-9654-4604-f6f0-425eaaeec8a3"
      },
      "outputs": [
        {
          "name": "stderr",
          "output_type": "stream",
          "text": [
            "/usr/local/lib/python3.7/dist-packages/ipykernel_launcher.py:2: DeprecationWarning:\n",
            "\n",
            "Call to deprecated `doesnt_match` (Method will be removed in 4.0.0, use self.wv.doesnt_match() instead).\n",
            "\n",
            "/usr/local/lib/python3.7/dist-packages/ipykernel_launcher.py:3: DeprecationWarning:\n",
            "\n",
            "Call to deprecated `doesnt_match` (Method will be removed in 4.0.0, use self.wv.doesnt_match() instead).\n",
            "\n",
            "/usr/local/lib/python3.7/dist-packages/ipykernel_launcher.py:4: DeprecationWarning:\n",
            "\n",
            "Call to deprecated `doesnt_match` (Method will be removed in 4.0.0, use self.wv.doesnt_match() instead).\n",
            "\n",
            "/usr/local/lib/python3.7/dist-packages/ipykernel_launcher.py:5: DeprecationWarning:\n",
            "\n",
            "Call to deprecated `most_similar` (Method will be removed in 4.0.0, use self.wv.most_similar() instead).\n",
            "\n",
            "/usr/local/lib/python3.7/dist-packages/ipykernel_launcher.py:6: DeprecationWarning:\n",
            "\n",
            "Call to deprecated `most_similar` (Method will be removed in 4.0.0, use self.wv.most_similar() instead).\n",
            "\n",
            "/usr/local/lib/python3.7/dist-packages/ipykernel_launcher.py:7: DeprecationWarning:\n",
            "\n",
            "Call to deprecated `most_similar` (Method will be removed in 4.0.0, use self.wv.most_similar() instead).\n",
            "\n",
            "[nltk_data] Downloading package stopwords to /root/nltk_data...\n",
            "[nltk_data]   Unzipping corpora/stopwords.zip.\n"
          ]
        },
        {
          "name": "stdout",
          "output_type": "stream",
          "text": [
            "Creating average feature vecs for training reviews\n",
            "Review 0 of 25000\n"
          ]
        },
        {
          "name": "stderr",
          "output_type": "stream",
          "text": [
            "/usr/local/lib/python3.7/dist-packages/ipykernel_launcher.py:48: DeprecationWarning:\n",
            "\n",
            "Call to deprecated `__getitem__` (Method will be removed in 4.0.0, use self.wv.__getitem__() instead).\n",
            "\n"
          ]
        },
        {
          "name": "stdout",
          "output_type": "stream",
          "text": [
            "Review 1000 of 25000\n",
            "Review 2000 of 25000\n",
            "Review 3000 of 25000\n",
            "Review 4000 of 25000\n",
            "Review 5000 of 25000\n",
            "Review 6000 of 25000\n",
            "Review 7000 of 25000\n",
            "Review 8000 of 25000\n",
            "Review 9000 of 25000\n",
            "Review 10000 of 25000\n",
            "Review 11000 of 25000\n",
            "Review 12000 of 25000\n",
            "Review 13000 of 25000\n",
            "Review 14000 of 25000\n",
            "Review 15000 of 25000\n",
            "Review 16000 of 25000\n",
            "Review 17000 of 25000\n",
            "Review 18000 of 25000\n",
            "Review 19000 of 25000\n",
            "Review 20000 of 25000\n",
            "Review 21000 of 25000\n",
            "Review 22000 of 25000\n",
            "Review 23000 of 25000\n",
            "Review 24000 of 25000\n",
            "Creating average feature vecs for test reviews\n",
            "Review 0 of 25000\n",
            "Review 1000 of 25000\n",
            "Review 2000 of 25000\n",
            "Review 3000 of 25000\n",
            "Review 4000 of 25000\n",
            "Review 5000 of 25000\n",
            "Review 6000 of 25000\n",
            "Review 7000 of 25000\n",
            "Review 8000 of 25000\n",
            "Review 9000 of 25000\n",
            "Review 10000 of 25000\n",
            "Review 11000 of 25000\n",
            "Review 12000 of 25000\n",
            "Review 13000 of 25000\n",
            "Review 14000 of 25000\n",
            "Review 15000 of 25000\n",
            "Review 16000 of 25000\n",
            "Review 17000 of 25000\n",
            "Review 18000 of 25000\n",
            "Review 19000 of 25000\n",
            "Review 20000 of 25000\n",
            "Review 21000 of 25000\n",
            "Review 22000 of 25000\n",
            "Review 23000 of 25000\n",
            "Review 24000 of 25000\n",
            "Fitting a random forest to labeled training data...\n",
            "Wrote Word2Vec_AverageVectors.csv\n"
          ]
        }
      ],
      "source": [
        " # TEST THE MODEL\n",
        "model.doesnt_match(\"man woman child kitchen\".split())\n",
        "model.doesnt_match(\"france england germany berlin\".split())\n",
        "model.doesnt_match(\"paris berlin london austria\".split())\n",
        "model.most_similar(\"man\")\n",
        "model.most_similar(\"queen\")\n",
        "model.most_similar(\"awful\")\n",
        "nltk.download('stopwords')\n",
        "    # Create average vectors for the training and test sets\n",
        "print (\"Creating average feature vecs for training reviews\")\n",
        "trainDataVecs = getAvgFeatureVecs( getCleanReviews(train), model, num_features )\n",
        "\n",
        "print (\"Creating average feature vecs for test reviews\")\n",
        "testDataVecs = getAvgFeatureVecs( getCleanReviews(test), model, num_features )\n",
        "\n",
        "    # Fit a random forest to the training set, then make predictions\n",
        "forest = RandomForestClassifier( n_estimators = 100 )\n",
        "\n",
        "print (\"Fitting a random forest to labeled training data...\")\n",
        "forest = forest.fit( trainDataVecs, train[\"sentiment\"] )\n",
        "\n",
        "    # Test & extract results\n",
        "result = forest.predict( testDataVecs )\n",
        "\n",
        "    # Write the test results\n",
        "output = pd.DataFrame( data={\"id\":test[\"id\"], \"sentiment\":result} )\n",
        "output.to_csv( \"/content/OUTPUT_Word2Vec_AverageVectors.csv\", index=False, quoting=3 )\n",
        "print (\"Wrote Word2Vec_AverageVectors.csv\")"
      ]
    },
    {
      "cell_type": "markdown",
      "metadata": {
        "id": "tWFoGEUKo5Vv"
      },
      "source": [
        "### Dependency Parsing"
      ]
    },
    {
      "cell_type": "code",
      "execution_count": null,
      "metadata": {
        "id": "4Q_dZuJaS1nJ"
      },
      "outputs": [],
      "source": [
        "!pip install -U pip setuptools wheel\n",
        "!pip install -U spacy\n",
        "!python -m spacy download en_core_web_sm"
      ]
    },
    {
      "cell_type": "code",
      "execution_count": 4,
      "metadata": {},
      "outputs": [],
      "source": [
        "import os\n",
        "java_path = \"C:/Program Files/Java/jdk1.8.0_161/bin/java.exe\"\n",
        "os.environ['JAVAHOME'] = java_path"
      ]
    },
    {
      "cell_type": "code",
      "execution_count": null,
      "metadata": {
        "id": "K5bX7Z9aSFyy"
      },
      "outputs": [],
      "source": [
        "from nltk.parse.stanford import StanfordDependencyParser\n",
        "from nltk.parse.stanford import StanfordDependencyParser\n",
        "\n",
        "\n",
        "\n",
        "sentence = 'Deemed universities charge huge fees'\n",
        "\n",
        "# Initialize StanfordDependency Parser from the path\n",
        "parser = StanfordDependencyParser(path_to_jar = \"D:\\DS504 Natural Language Processing\\DS504\\stanford-corenlp-4.5.1\\stanford-corenlp-4.5.1.jar\", path_to_models_jar =  \"D:\\DS504 Natural Language Processing\\DS504\\stanford-corenlp-4.5.1\\stanford-corenlp-4.5.1-models.jar\",    )\n",
        "\n",
        "# Parse the sentence\n",
        "result = parser.raw_parse(sentence)\n",
        "dependency = result.__next__()\n",
        "\n",
        "\n",
        "print (\"{:<15} | {:<10} | {:<10} | {:<15} | {:<10}\".format('Head', 'Head POS','Relation','Dependent', 'Dependent POS'))\n",
        "print (\"-\" * 75)\n",
        "  \n",
        "# Use dependency.triples() to extract the dependency triples in the form\n",
        "# ((head word, head POS), relation, (dependent word, dependent POS))  \n",
        "for dep in list(dependency.triples()):\n",
        "  print (\"{:<15} | {:<10} | {:<10} | {:<15} | {:<10}\"\n",
        "         .format(str(dep[0][0]),str(dep[0][1]), str(dep[1]), str(dep[2][0]),str(dep[2][1])))"
      ]
    },
    {
      "cell_type": "code",
      "execution_count": null,
      "metadata": {
        "id": "HzPmYP2ZWPb3"
      },
      "outputs": [],
      "source": [
        "# importing networkx\n",
        "import networkx as nx\n",
        "import matplotlib.pyplot as plt\n",
        "# Using reverse() to reverse the direction of edges as nx_graph() returns inverted edges\n",
        "G = dependency.nx_graph().reverse()\n",
        "# nx_graph() returns numeric node labels starting from 1\n",
        "# Create a dictionary to map numeric nodes and words in the sentence\n",
        "words = sentence.split(\" \")\n",
        "labels = {index + 1: words[index] for index in range(len(words))}\n",
        "nx.draw(G, with_labels=True, labels=labels, node_size=2500, node_color='#B5EAD7', font_size=10)"
      ]
    },
    {
      "cell_type": "code",
      "execution_count": null,
      "metadata": {
        "id": "FMD1l9JHWTnY"
      },
      "outputs": [],
      "source": [
        "!pip install graphviz\n",
        "from graphviz import Source\n",
        "dot_def = dependency.to_dot()\n",
        "'''\n",
        "The below lines require graphviz executables to be installed to your system. If that does not work, print the dot_def object and paste the output on http://graphs.grevian.org/graph/\n",
        "'''\n",
        "source = Source(dot_def, filename=\"dependency_graph\", format=\"png\")\n",
        "source.view()"
      ]
    }
  ],
  "metadata": {
    "accelerator": "GPU",
    "colab": {
      "collapsed_sections": [],
      "provenance": []
    },
    "kernelspec": {
      "display_name": "Python 3.7.4 ('base')",
      "language": "python",
      "name": "python3"
    },
    "language_info": {
      "codemirror_mode": {
        "name": "ipython",
        "version": 3
      },
      "file_extension": ".py",
      "mimetype": "text/x-python",
      "name": "python",
      "nbconvert_exporter": "python",
      "pygments_lexer": "ipython3",
      "version": "3.7.4"
    },
    "vscode": {
      "interpreter": {
        "hash": "4a01861876d126b30cd1b77ced19e532f706bc03e1154ffd933be16f6f668bcc"
      }
    }
  },
  "nbformat": 4,
  "nbformat_minor": 0
}
